{
  "nbformat": 4,
  "nbformat_minor": 0,
  "metadata": {
    "colab": {
      "provenance": [],
      "authorship_tag": "ABX9TyPJ2EzcJ3dV71rfvUWM9nTQ",
      "include_colab_link": true
    },
    "kernelspec": {
      "name": "python3",
      "display_name": "Python 3"
    },
    "language_info": {
      "name": "python"
    }
  },
  "cells": [
    {
      "cell_type": "markdown",
      "metadata": {
        "id": "view-in-github",
        "colab_type": "text"
      },
      "source": [
        "<a href=\"https://colab.research.google.com/github/Vitormdz/Estudo-de-Python25/blob/main/EstudoPython01_Imersao_google_alura.ipynb\" target=\"_parent\"><img src=\"https://colab.research.google.com/assets/colab-badge.svg\" alt=\"Open In Colab\"/></a>"
      ]
    },
    {
      "cell_type": "code",
      "execution_count": 1,
      "metadata": {
        "colab": {
          "base_uri": "https://localhost:8080/"
        },
        "id": "0tl4LqMeYuy0",
        "outputId": "0b504fa6-5aa2-4492-f969-4d6efd514e70"
      },
      "outputs": [
        {
          "name": "stdout",
          "output_type": "stream",
          "text": [
            "Digite o seu nome:Vitor Mendes\n"
          ]
        }
      ],
      "source": [
        "nome1 = input('Digite o seu nome:')"
      ]
    },
    {
      "cell_type": "code",
      "source": [
        "idade1 = input('Digite a sua idade:')"
      ],
      "metadata": {
        "colab": {
          "base_uri": "https://localhost:8080/"
        },
        "id": "9mkhHRPFJnc1",
        "outputId": "759ecccb-d81b-46b0-bf85-3623926128a7"
      },
      "execution_count": 12,
      "outputs": [
        {
          "name": "stdout",
          "output_type": "stream",
          "text": [
            "Digite a sua idade:35\n"
          ]
        }
      ]
    },
    {
      "cell_type": "code",
      "source": [
        "nome2 = input('Digite o seu nome:')"
      ],
      "metadata": {
        "colab": {
          "base_uri": "https://localhost:8080/"
        },
        "id": "iG1pBlmwJyuc",
        "outputId": "f29e0a6f-eabc-4dd4-ebb3-f0c983808666"
      },
      "execution_count": 3,
      "outputs": [
        {
          "name": "stdout",
          "output_type": "stream",
          "text": [
            "Digite o seu nome:Marta Medeiros\n"
          ]
        }
      ]
    },
    {
      "cell_type": "code",
      "source": [
        "idade2 = input('Digite a sua Idade:')"
      ],
      "metadata": {
        "colab": {
          "base_uri": "https://localhost:8080/"
        },
        "id": "LRMFjolhKR-B",
        "outputId": "46110ef1-8450-4113-fc1b-565f7c3190bd"
      },
      "execution_count": 4,
      "outputs": [
        {
          "name": "stdout",
          "output_type": "stream",
          "text": [
            "Digite a sua Idade:30\n"
          ]
        }
      ]
    },
    {
      "cell_type": "code",
      "source": [
        "print(f'Hoje estamos aqui com o {nome1} e com a {nome2}, participando na live de Python!')"
      ],
      "metadata": {
        "colab": {
          "base_uri": "https://localhost:8080/"
        },
        "id": "lZxUMsBhKb9_",
        "outputId": "fe92f352-fff4-4e87-9cd6-d4f40ebab96c"
      },
      "execution_count": 5,
      "outputs": [
        {
          "output_type": "stream",
          "name": "stdout",
          "text": [
            "Hoje estamos aqui com o Vitor Mendes e com a Marta Medeiros, participando na live de Python!\n"
          ]
        }
      ]
    },
    {
      "cell_type": "code",
      "source": [
        "if int(idade1) >= 18:\n",
        "   print('Você é maior de idade')\n",
        "   print('Pode entrar.')\n",
        "else:\n",
        "   print('Você é menor de idade')\n",
        "   print('Entrada não autorizada.')"
      ],
      "metadata": {
        "colab": {
          "base_uri": "https://localhost:8080/"
        },
        "id": "-cFnm-u_LTjV",
        "outputId": "bb5da30c-8574-45e4-9dda-0e6c4874cf44"
      },
      "execution_count": 13,
      "outputs": [
        {
          "output_type": "stream",
          "name": "stdout",
          "text": [
            "Você é maior de idade\n",
            "Pode entrar.\n"
          ]
        }
      ]
    },
    {
      "cell_type": "code",
      "source": [
        "def verificar_idade (idade):\n",
        "    if int(idade) >= 18:\n",
        "      print('Você é maior de idade')\n",
        "      print('Pode entrar.')\n",
        "    else:\n",
        "      print('Você é menor de idade')\n",
        "      print('Entrada não autorizada.')"
      ],
      "metadata": {
        "id": "NOYlEZYANXTc"
      },
      "execution_count": 14,
      "outputs": []
    },
    {
      "cell_type": "code",
      "source": [
        "verificar_idade(17)"
      ],
      "metadata": {
        "colab": {
          "base_uri": "https://localhost:8080/"
        },
        "id": "M-U4PVA-OOv2",
        "outputId": "6ed4a700-4bb1-457d-bcbc-2343a0a217d5"
      },
      "execution_count": 16,
      "outputs": [
        {
          "output_type": "stream",
          "name": "stdout",
          "text": [
            "Você é menor de idade\n",
            "Entrada não autorizada.\n"
          ]
        }
      ]
    },
    {
      "cell_type": "code",
      "source": [
        "frutas = [\"maçã\", \"banana\", \"laranja\"]"
      ],
      "metadata": {
        "id": "XLyo7SRHUtqC"
      },
      "execution_count": 17,
      "outputs": []
    },
    {
      "cell_type": "code",
      "source": [
        "# Usando um loop 'for' para percorrer cada fruta na lista\n",
        "for fruta in frutas:\n",
        "    # Para cada 'fruta' na lista, imprima uma mensagem\n",
        "    print(f\"Eu gosto de {fruta}!\")"
      ],
      "metadata": {
        "colab": {
          "base_uri": "https://localhost:8080/"
        },
        "id": "0ZJ753m5Uwcs",
        "outputId": "186e3c61-df7b-44d8-ab1b-6badf6c5f1cb"
      },
      "execution_count": 18,
      "outputs": [
        {
          "output_type": "stream",
          "name": "stdout",
          "text": [
            "Eu gosto de maçã!\n",
            "Eu gosto de banana!\n",
            "Eu gosto de laranja!\n"
          ]
        }
      ]
    },
    {
      "cell_type": "code",
      "source": [
        "for indice, fruta in enumerate(frutas):\n",
        "    print(f\"Índice: {indice}, Fruta: {fruta}\")"
      ],
      "metadata": {
        "colab": {
          "base_uri": "https://localhost:8080/"
        },
        "id": "eBHpSjmaaaAL",
        "outputId": "3341e1ae-8a7f-4068-dbd2-771af8b197d2"
      },
      "execution_count": 19,
      "outputs": [
        {
          "output_type": "stream",
          "name": "stdout",
          "text": [
            "Índice: 0, Fruta: maçã\n",
            "Índice: 1, Fruta: banana\n",
            "Índice: 2, Fruta: laranja\n"
          ]
        }
      ]
    },
    {
      "cell_type": "code",
      "source": [
        "frutas = [\"maçã\", \"banana\", \"laranja\", \"morango\"]\n",
        "\n",
        "for fruta in frutas:\n",
        "    if fruta == \"laranja\":\n",
        "        print(\"Encontrei minha fruta favorita!\")\n",
        "    elif len(fruta) > 5:\n",
        "        print(f\"A fruta '{fruta}' tem mais de 5 letras.\")\n",
        "    else:\n",
        "        print(f\"Esta fruta '{fruta}' é interessante.\")"
      ],
      "metadata": {
        "colab": {
          "base_uri": "https://localhost:8080/"
        },
        "id": "KMBIxRQ9ayfm",
        "outputId": "2e70c8fa-ad90-45e9-da00-6dedddf10f50"
      },
      "execution_count": 20,
      "outputs": [
        {
          "output_type": "stream",
          "name": "stdout",
          "text": [
            "Esta fruta 'maçã' é interessante.\n",
            "A fruta 'banana' tem mais de 5 letras.\n",
            "Encontrei minha fruta favorita!\n",
            "A fruta 'morango' tem mais de 5 letras.\n"
          ]
        }
      ]
    },
    {
      "cell_type": "code",
      "source": [
        "info_frutas = {\"maçã\": \"vermelha\", \"banana\": \"amarela\", \"laranja\": \"laranja\"}\n",
        "\n",
        "# Iterando sobre as chaves\n",
        "for chave in info_frutas:\n",
        "    print(f\"A chave é: {chave}\")\n",
        "\n",
        "# Iterando sobre os valores\n",
        "for valor in info_frutas.values():\n",
        "    print(f\"O valor é: {valor}\")\n",
        "\n",
        "# Iterando sobre os itens (chave e valor)\n",
        "for chave, valor in info_frutas.items():\n",
        "    print(f\"A fruta '{chave}' é da cor '{valor}'.\")"
      ],
      "metadata": {
        "colab": {
          "base_uri": "https://localhost:8080/"
        },
        "id": "0U3qPyp8fKeh",
        "outputId": "5dabecef-aa58-4efb-ae3d-e0550dd1b581"
      },
      "execution_count": 24,
      "outputs": [
        {
          "output_type": "stream",
          "name": "stdout",
          "text": [
            "A chave é: maçã\n",
            "A chave é: banana\n",
            "A chave é: laranja\n",
            "O valor é: vermelha\n",
            "O valor é: amarela\n",
            "O valor é: laranja\n",
            "A fruta 'maçã' é da cor 'vermelha'.\n",
            "A fruta 'banana' é da cor 'amarela'.\n",
            "A fruta 'laranja' é da cor 'laranja'.\n"
          ]
        }
      ]
    },
    {
      "cell_type": "code",
      "source": [
        "temperaturas = [25.5, 26.0, 24.8, 27.1, 25.9]\n",
        "soma = 0\n",
        "\n",
        "for temp in temperaturas:\n",
        "    soma += temp\n",
        "media = soma / len(temperaturas)\n",
        "\n",
        "print(f\"A temperatura média é: {media:.2f}\")"
      ],
      "metadata": {
        "colab": {
          "base_uri": "https://localhost:8080/"
        },
        "id": "sUAHb1vOkX8X",
        "outputId": "760a9059-df59-4560-ab3c-bbf8ed511333"
      },
      "execution_count": 25,
      "outputs": [
        {
          "output_type": "stream",
          "name": "stdout",
          "text": [
            "A temperatura média é: 25.86\n"
          ]
        }
      ]
    }
  ]
}